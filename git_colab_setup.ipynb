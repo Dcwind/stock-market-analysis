{
  "nbformat": 4,
  "nbformat_minor": 0,
  "metadata": {
    "colab": {
      "provenance": [],
      "mount_file_id": "1JgC2joB4XN3GoJBcRlV5jFc7dXuxPf60",
      "authorship_tag": "ABX9TyMcdDpHzwTeVF+dZgimuis3"
    },
    "kernelspec": {
      "name": "python3",
      "display_name": "Python 3"
    },
    "language_info": {
      "name": "python"
    }
  },
  "cells": [
    {
      "cell_type": "code",
      "execution_count": 1,
      "metadata": {
        "id": "zMYbeLNnvNtD"
      },
      "outputs": [],
      "source": [
        "from google.colab import drive"
      ]
    },
    {
      "cell_type": "code",
      "source": [
        "drive.mount('/content/drive')"
      ],
      "metadata": {
        "colab": {
          "base_uri": "https://localhost:8080/"
        },
        "id": "Hf-K954RvjWn",
        "outputId": "7e8a1065-9f88-4249-9c4c-9609c91ff6f7"
      },
      "execution_count": 2,
      "outputs": [
        {
          "output_type": "stream",
          "name": "stdout",
          "text": [
            "Drive already mounted at /content/drive; to attempt to forcibly remount, call drive.mount(\"/content/drive\", force_remount=True).\n"
          ]
        }
      ]
    },
    {
      "cell_type": "code",
      "source": [
        "%cd /content/drive/MyDrive"
      ],
      "metadata": {
        "colab": {
          "base_uri": "https://localhost:8080/"
        },
        "id": "NHqtd8c4v9iC",
        "outputId": "2e35ae64-9aa9-4063-fbe6-6c280e708dae"
      },
      "execution_count": 3,
      "outputs": [
        {
          "output_type": "stream",
          "name": "stdout",
          "text": [
            "/content/drive/MyDrive\n"
          ]
        }
      ]
    },
    {
      "cell_type": "code",
      "source": [
        "%cd Github/"
      ],
      "metadata": {
        "colab": {
          "base_uri": "https://localhost:8080/"
        },
        "id": "gklwA797wDFd",
        "outputId": "06c5ebfd-0fd9-4826-a446-97622362623d"
      },
      "execution_count": 6,
      "outputs": [
        {
          "output_type": "stream",
          "name": "stdout",
          "text": [
            "/content/drive/MyDrive/Github\n"
          ]
        }
      ]
    },
    {
      "cell_type": "code",
      "source": [
        "!git clone https://github.com/Dcwind/stock-market-analysis"
      ],
      "metadata": {
        "colab": {
          "base_uri": "https://localhost:8080/"
        },
        "id": "C-AFfXLUw68G",
        "outputId": "39de815d-69c6-4239-ce23-18122be7c950"
      },
      "execution_count": 7,
      "outputs": [
        {
          "output_type": "stream",
          "name": "stdout",
          "text": [
            "Cloning into 'stock-market-analysis'...\n",
            "remote: Enumerating objects: 4, done.\u001b[K\n",
            "remote: Counting objects: 100% (4/4), done.\u001b[K\n",
            "remote: Compressing objects: 100% (3/3), done.\u001b[K\n",
            "remote: Total 4 (delta 0), reused 0 (delta 0), pack-reused 0 (from 0)\u001b[K\n",
            "Receiving objects: 100% (4/4), done.\n"
          ]
        }
      ]
    },
    {
      "cell_type": "code",
      "source": [
        "%ls"
      ],
      "metadata": {
        "colab": {
          "base_uri": "https://localhost:8080/"
        },
        "id": "swQEdd-NxfWN",
        "outputId": "02f75392-2f0e-4152-cab4-e5b3537dff92"
      },
      "execution_count": 10,
      "outputs": [
        {
          "output_type": "stream",
          "name": "stdout",
          "text": [
            "README.md\n"
          ]
        }
      ]
    },
    {
      "cell_type": "code",
      "source": [
        "!git config --global user.name \"Daniel Ekwuazi\"\n",
        "!git config --global user.email \"danielekwuazi@gmail.com\""
      ],
      "metadata": {
        "id": "hpBAXc3D1O6u"
      },
      "execution_count": 16,
      "outputs": []
    },
    {
      "cell_type": "code",
      "source": [
        "from google.colab import userdata\n",
        "token = userdata.get('token')\n",
        "\n",
        "user=\"Dcwind\"\n",
        "repo=\"stock-market-analysis\"\n",
        "\n",
        "!git remote set-url origin f'https://{token}@github.com/{user}/{repo}.git'"
      ],
      "metadata": {
        "id": "afiFRtoA4G8Y"
      },
      "execution_count": 20,
      "outputs": []
    },
    {
      "cell_type": "code",
      "source": [
        "import os, subprocess\n",
        "\n",
        "# 1. Get the token saved in Colab Secrets (or prompt manually)\n",
        "token = userdata.get('token')          # make sure this returns the 40-char PAT\n",
        "# token = input(\"Paste PAT: \")         # <-- fallback if userdata is empty\n",
        "\n",
        "user  = \"Dcwind\"\n",
        "repo  = \"stock-market-analysis\"\n",
        "\n",
        "# 2. Build the remote URL in Python\n",
        "remote_url = f\"https://{token}@github.com/{user}/{repo}.git\"\n",
        "\n",
        "# 3. Tell Git to use it\n",
        "subprocess.run([\"git\", \"remote\", \"set-url\", \"origin\", remote_url], check=True)\n",
        "\n",
        "# 4. Verify\n",
        "subprocess.run([\"git\", \"remote\", \"-v\"], check=True)\n",
        "\n",
        "# 5. Push\n",
        "subprocess.run([\"git\", \"push\", \"origin\", \"main\"], check=True)   # change branch name if needed\n"
      ],
      "metadata": {
        "colab": {
          "base_uri": "https://localhost:8080/"
        },
        "id": "y82JmVJf7QhQ",
        "outputId": "19a788f4-d0fd-4fce-aa4a-312ef4409445"
      },
      "execution_count": 29,
      "outputs": [
        {
          "output_type": "execute_result",
          "data": {
            "text/plain": [
              "CompletedProcess(args=['git', 'push', 'origin', 'main'], returncode=0)"
            ]
          },
          "metadata": {},
          "execution_count": 29
        }
      ]
    },
    {
      "cell_type": "code",
      "source": [
        "!echo https://${token}@github.com/${user}/${repo}.git"
      ],
      "metadata": {
        "colab": {
          "base_uri": "https://localhost:8080/"
        },
        "id": "_5mmNTh66ISa",
        "outputId": "308bcf32-9dfb-41e6-ba47-92d38dee82fa"
      },
      "execution_count": 27,
      "outputs": [
        {
          "output_type": "stream",
          "name": "stdout",
          "text": [
            "https://@github.com//-market-analysis.git\n"
          ]
        }
      ]
    },
    {
      "cell_type": "code",
      "source": [
        "!git status"
      ],
      "metadata": {
        "colab": {
          "base_uri": "https://localhost:8080/"
        },
        "id": "x2FYNFjhxlxJ",
        "outputId": "0900478c-389d-4558-9fe4-f8b2b9a6b512"
      },
      "execution_count": 33,
      "outputs": [
        {
          "output_type": "stream",
          "name": "stdout",
          "text": [
            "On branch main\n",
            "Your branch is up to date with 'origin/main'.\n",
            "\n",
            "Changes not staged for commit:\n",
            "  (use \"git add <file>...\" to update what will be committed)\n",
            "  (use \"git restore <file>...\" to discard changes in working directory)\n",
            "\t\u001b[31mmodified:   S&P500_analysis.ipynb\u001b[m\n",
            "\n",
            "no changes added to commit (use \"git add\" and/or \"git commit -a\")\n"
          ]
        }
      ]
    },
    {
      "cell_type": "code",
      "source": [
        "!git add 'S&P500_analysis.ipynb'"
      ],
      "metadata": {
        "id": "BSXG-8zk0I-S"
      },
      "execution_count": 34,
      "outputs": []
    },
    {
      "cell_type": "code",
      "source": [
        "!git commit -m \"Add initial S&P500 analysis notebook\""
      ],
      "metadata": {
        "colab": {
          "base_uri": "https://localhost:8080/"
        },
        "id": "MhRaIQ6_0nqE",
        "outputId": "028444e1-3e37-46ed-a41e-803b04bb476a"
      },
      "execution_count": 35,
      "outputs": [
        {
          "output_type": "stream",
          "name": "stdout",
          "text": [
            "[main f983777] Add initial S&P500 analysis notebook\n",
            " 1 file changed, 1 insertion(+)\n"
          ]
        }
      ]
    },
    {
      "cell_type": "code",
      "source": [
        "!git push origin main"
      ],
      "metadata": {
        "colab": {
          "base_uri": "https://localhost:8080/"
        },
        "id": "tHrFoYR91CRe",
        "outputId": "309d3acd-ff52-472b-fa10-05760a892510"
      },
      "execution_count": 36,
      "outputs": [
        {
          "output_type": "stream",
          "name": "stdout",
          "text": [
            "Enumerating objects: 5, done.\n",
            "Counting objects:  20% (1/5)\rCounting objects:  40% (2/5)\rCounting objects:  60% (3/5)\rCounting objects:  80% (4/5)\rCounting objects: 100% (5/5)\rCounting objects: 100% (5/5), done.\n",
            "Delta compression using up to 2 threads\n",
            "Compressing objects:  33% (1/3)\rCompressing objects:  66% (2/3)\rCompressing objects: 100% (3/3)\rCompressing objects: 100% (3/3), done.\n",
            "Writing objects:  33% (1/3)\rWriting objects:  66% (2/3)\rWriting objects: 100% (3/3)\rWriting objects: 100% (3/3), 504 bytes | 31.00 KiB/s, done.\n",
            "Total 3 (delta 1), reused 0 (delta 0), pack-reused 0\n",
            "remote: Resolving deltas: 100% (1/1), completed with 1 local object.\u001b[K\n",
            "To https://github.com/Dcwind/stock-market-analysis.git\n",
            "   f1b41e2..f983777  main -> main\n"
          ]
        }
      ]
    },
    {
      "cell_type": "code",
      "source": [
        "!git remote -v"
      ],
      "metadata": {
        "colab": {
          "base_uri": "https://localhost:8080/"
        },
        "id": "x2z90YOt5bUz",
        "outputId": "ff9bb929-4efa-422a-a33a-64b6b53aa18d"
      },
      "execution_count": 24,
      "outputs": [
        {
          "output_type": "stream",
          "name": "stdout",
          "text": [
            "origin\thttps://@github.com//-market-analysis.git (fetch)\n",
            "origin\thttps://@github.com//-market-analysis.git (push)\n"
          ]
        }
      ]
    },
    {
      "cell_type": "code",
      "source": [
        "%rm 'S&P500_analysis.ipynb'"
      ],
      "metadata": {
        "id": "XTno6c-b9ryy"
      },
      "execution_count": 32,
      "outputs": []
    }
  ]
}